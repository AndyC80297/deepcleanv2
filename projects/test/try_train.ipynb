{
 "cells": [
  {
   "cell_type": "code",
   "execution_count": 7,
   "metadata": {},
   "outputs": [],
   "source": [
    "import h5py\n",
    "from lightning import pytorch as pl\n",
    "\n",
    "import logging\n",
    "from train.cli import AframeCLI as dc_cli\n",
    "from train.data import DeepCleanDataset as dc_dataset\n",
    "from train.model import DeepClean as dc_model"
   ]
  },
  {
   "cell_type": "code",
   "execution_count": 9,
   "metadata": {},
   "outputs": [
    {
     "data": {
      "text/plain": [
       "['__class__',\n",
       " '__delattr__',\n",
       " '__dict__',\n",
       " '__dir__',\n",
       " '__doc__',\n",
       " '__eq__',\n",
       " '__format__',\n",
       " '__ge__',\n",
       " '__getattribute__',\n",
       " '__gt__',\n",
       " '__hash__',\n",
       " '__init__',\n",
       " '__init_subclass__',\n",
       " '__le__',\n",
       " '__lt__',\n",
       " '__module__',\n",
       " '__ne__',\n",
       " '__new__',\n",
       " '__reduce__',\n",
       " '__reduce_ex__',\n",
       " '__repr__',\n",
       " '__setattr__',\n",
       " '__sizeof__',\n",
       " '__str__',\n",
       " '__subclasshook__',\n",
       " '__weakref__',\n",
       " '_add_arguments',\n",
       " '_add_configure_optimizers_method_to_model',\n",
       " '_add_subcommands',\n",
       " '_get',\n",
       " '_instantiate_trainer',\n",
       " '_parser',\n",
       " '_prepare_subcommand_kwargs',\n",
       " '_prepare_subcommand_parser',\n",
       " '_run_subcommand',\n",
       " '_set_seed',\n",
       " '_setup_parser_kwargs',\n",
       " 'add_arguments_to_parser',\n",
       " 'add_core_arguments_to_parser',\n",
       " 'add_default_arguments_to_parser',\n",
       " 'before_instantiate_classes',\n",
       " 'configure_optimizers',\n",
       " 'init_parser',\n",
       " 'instantiate_classes',\n",
       " 'instantiate_trainer',\n",
       " 'link_optimizers_and_lr_schedulers',\n",
       " 'parse_arguments',\n",
       " 'setup_parser',\n",
       " 'subcommands']"
      ]
     },
     "execution_count": 9,
     "metadata": {},
     "output_type": "execute_result"
    }
   ],
   "source": [
    "dir(dc_cli)"
   ]
  },
  {
   "cell_type": "code",
   "execution_count": 3,
   "metadata": {},
   "outputs": [
    {
     "name": "stdout",
     "output_type": "stream",
     "text": [
      "['CHECKPOINT_HYPER_PARAMS_KEY', 'CHECKPOINT_HYPER_PARAMS_NAME', 'CHECKPOINT_HYPER_PARAMS_TYPE', '__annotations__', '__class__', '__delattr__', '__dict__', '__dir__', '__doc__', '__eq__', '__format__', '__ge__', '__getattribute__', '__gt__', '__hash__', '__init__', '__init_subclass__', '__jit_unused_properties__', '__le__', '__lt__', '__module__', '__ne__', '__new__', '__reduce__', '__reduce_ex__', '__repr__', '__setattr__', '__sizeof__', '__str__', '__subclasshook__', '__weakref__', '_async_loader', '_set_hparams', '_to_hparams_dict', 'from_datasets', 'hparams', 'hparams_initial', 'kernel_size', 'load_from_checkpoint', 'load_state_dict', 'load_timeseries', 'name', 'num_witnesses', 'on_after_batch_transfer', 'on_before_batch_transfer', 'predict_dataloader', 'prepare_data', 'save_hyperparameters', 'setup', 'state_dict', 'strain_channel', 'teardown', 'test_dataloader', 'train_dataloader', 'transfer_batch_to_device', 'val_dataloader', 'witness_channels']\n",
      "<class 'type'>\n"
     ]
    }
   ],
   "source": [
    "print(dir(dc_dataset))\n",
    "print(type(dc_dataset))"
   ]
  },
  {
   "cell_type": "code",
   "execution_count": 4,
   "metadata": {},
   "outputs": [
    {
     "name": "stdout",
     "output_type": "stream",
     "text": [
      "0.000244140625\n",
      "4096.0\n"
     ]
    }
   ],
   "source": [
    "data_file = '/home/kamalan/dc-demo/data/K-K1_lldata-1369291863-16384.hdf5'\n",
    "chs = [\n",
    "    \"K1:CAL-CS_PROC_DARM_STRAIN_DBL_DQ\",\n",
    "    \"K1:PEM-MIC_BS_FIELD_BS_Z_OUT_DQ\",\n",
    "    \"K1:PEM-MIC_BS_BOOTH_BS_Z_OUT_DQ\",\n",
    "    \"K1:PEM-MIC_BS_TABLE_POP_Z_OUT_DQ\",\n",
    "    \"K1:PEM-MIC_IXC_BOOTH_IXC_Z_OUT_DQ\",\n",
    "    \"K1:PEM-MIC_IXC_FIELD_IXC_Z_OUT_DQ\",\n",
    "    \"K1:PEM-MIC_IYC_BOOTH_IYC_Z_OUT_DQ\",\n",
    "    \"K1:PEM-MIC_OMC_BOOTH_OMC_Z_OUT_DQ\",\n",
    "    \"K1:PEM-MIC_OMC_TABLE_AS_Z_OUT_DQ\",\n",
    "    \"K1:PEM-MIC_TMSX_TABLE_TMS_Z_OUT_DQ\",\n",
    "    #\"K1:PEM-VOLT_AS_TABLE_GND_OUT_DQ\",\n",
    "    #\"K1:PEM-VOLT_IMCREFL_TABLE_GND_OUT_DQ\",\n",
    "    #\"K1:PEM-VOLT_ISS_TABLE_GND_OUT_DQ\",\n",
    "    #\"K1:PEM-VOLT_OMC_CHAMBER_GND_OUT_DQ\",\n",
    "    #\"K1:PEM-VOLT_PSL_TABLE_GND_OUT_DQ\",\n",
    "    #\"K1:PEM-VOLT_REFL_TABLE_GND_OUT_DQ\",\n",
    "]\n",
    "\n",
    "with h5py.File(data_file, 'r') as f:\n",
    "    keys = list(f.keys())\n",
    "    print(f[keys[0]].attrs['dx'])\n",
    "    print(1/f[keys[0]].attrs['dx'])"
   ]
  },
  {
   "cell_type": "code",
   "execution_count": 5,
   "metadata": {},
   "outputs": [],
   "source": [
    "t_dataset = dc_dataset(\n",
    "    fname=data_file,\n",
    "    channels=chs,\n",
    "    kernel_length=8,\n",
    "    freq_low=55,\n",
    "    freq_high=65,\n",
    "    batch_size=512,\n",
    "    train_duration=4096,\n",
    "    test_duration=8192,\n",
    "    valid_frac=0.33,\n",
    "    train_stride=0.0625,\n",
    "    inference_sampling_rate=64,\n",
    "    start_offset=0,\n",
    "    filt_order=8,\n",
    ")"
   ]
  },
  {
   "cell_type": "code",
   "execution_count": 17,
   "metadata": {},
   "outputs": [
    {
     "name": "stdout",
     "output_type": "stream",
     "text": [
      "K1:CAL-CS_PROC_DARM_STRAIN_DBL_DQ\n",
      "['K1:PEM-MIC_BS_BOOTH_BS_Z_OUT_DQ', 'K1:PEM-MIC_BS_FIELD_BS_Z_OUT_DQ', 'K1:PEM-MIC_BS_TABLE_POP_Z_OUT_DQ', 'K1:PEM-MIC_IXC_BOOTH_IXC_Z_OUT_DQ', 'K1:PEM-MIC_IXC_FIELD_IXC_Z_OUT_DQ', 'K1:PEM-MIC_IYC_BOOTH_IYC_Z_OUT_DQ', 'K1:PEM-MIC_OMC_BOOTH_OMC_Z_OUT_DQ', 'K1:PEM-MIC_OMC_TABLE_AS_Z_OUT_DQ', 'K1:PEM-MIC_TMSX_TABLE_TMS_Z_OUT_DQ']\n",
      "9\n",
      "32768\n"
     ]
    }
   ],
   "source": [
    "print(t_dataset.strain_channel)\n",
    "print(t_dataset.witness_channels)\n",
    "print(t_dataset.num_witnesses)\n",
    "print(t_dataset.kernel_size)"
   ]
  },
  {
   "cell_type": "code",
   "execution_count": 18,
   "metadata": {},
   "outputs": [
    {
     "ename": "AttributeError",
     "evalue": "'DeepCleanDataset' object has no attribute '_DeepCleanDataset__logger'",
     "output_type": "error",
     "traceback": [
      "\u001b[0;31m---------------------------------------------------------------------------\u001b[0m",
      "\u001b[0;31mAttributeError\u001b[0m                            Traceback (most recent call last)",
      "Cell \u001b[0;32mIn[18], line 1\u001b[0m\n\u001b[0;32m----> 1\u001b[0m \u001b[43mt_dataset\u001b[49m\u001b[38;5;241;43m.\u001b[39;49m\u001b[43mload_timeseries\u001b[49m\u001b[43m(\u001b[49m\u001b[38;5;124;43m'\u001b[39;49m\u001b[38;5;124;43mtrain\u001b[39;49m\u001b[38;5;124;43m'\u001b[39;49m\u001b[43m)\u001b[49m\n",
      "File \u001b[0;32m~/deepclean-demo/projects/test/train/data.py:138\u001b[0m, in \u001b[0;36mDeepCleanDataset.load_timeseries\u001b[0;34m(self, split)\u001b[0m\n\u001b[1;32m    135\u001b[0m     size \u001b[38;5;241m=\u001b[39m train_size\n\u001b[1;32m    136\u001b[0m idx \u001b[38;5;241m=\u001b[39m \u001b[38;5;28mslice\u001b[39m(start, start \u001b[38;5;241m+\u001b[39m size)\n\u001b[0;32m--> 138\u001b[0m \u001b[38;5;28;43mself\u001b[39;49m\u001b[38;5;241;43m.\u001b[39;49m\u001b[43m__logger\u001b[49m\u001b[38;5;241m.\u001b[39minfo(\u001b[38;5;124mf\u001b[39m\u001b[38;5;124m\"\u001b[39m\u001b[38;5;124mLoading \u001b[39m\u001b[38;5;132;01m{\u001b[39;00msplit\u001b[38;5;132;01m}\u001b[39;00m\u001b[38;5;124m data\u001b[39m\u001b[38;5;124m\"\u001b[39m)\n\u001b[1;32m    139\u001b[0m X \u001b[38;5;241m=\u001b[39m torch\u001b[38;5;241m.\u001b[39mzeros((\u001b[38;5;28mself\u001b[39m\u001b[38;5;241m.\u001b[39mnum_witnesses, size))\n\u001b[1;32m    140\u001b[0m \u001b[38;5;28;01mwith\u001b[39;00m h5py\u001b[38;5;241m.\u001b[39mFile(\u001b[38;5;28mself\u001b[39m\u001b[38;5;241m.\u001b[39mhparams\u001b[38;5;241m.\u001b[39mfname, \u001b[38;5;124m\"\u001b[39m\u001b[38;5;124mr\u001b[39m\u001b[38;5;124m\"\u001b[39m) \u001b[38;5;28;01mas\u001b[39;00m f:\n",
      "\u001b[0;31mAttributeError\u001b[0m: 'DeepCleanDataset' object has no attribute '_DeepCleanDataset__logger'"
     ]
    }
   ],
   "source": [
    "t_dataset.load_timeseries('train')"
   ]
  },
  {
   "cell_type": "code",
   "execution_count": null,
   "metadata": {},
   "outputs": [],
   "source": []
  }
 ],
 "metadata": {
  "kernelspec": {
   "display_name": "train-STAtZovC-py3.10",
   "language": "python",
   "name": "python3"
  },
  "language_info": {
   "codemirror_mode": {
    "name": "ipython",
    "version": 3
   },
   "file_extension": ".py",
   "mimetype": "text/x-python",
   "name": "python",
   "nbconvert_exporter": "python",
   "pygments_lexer": "ipython3",
   "version": "3.10.12"
  }
 },
 "nbformat": 4,
 "nbformat_minor": 2
}
